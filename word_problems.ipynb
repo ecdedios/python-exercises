{
 "cells": [
  {
   "cell_type": "markdown",
   "metadata": {},
   "source": [
    "You have rented some movies for your kids: The little mermaid (for 3 days), Brother Bear (for 5 days, they love it), and Hercules (1 day, you don't know yet if they're going to like it). If price for a movie per day is 3 dollars, how much will you have to pay?"
   ]
  },
  {
   "cell_type": "code",
   "execution_count": null,
   "metadata": {},
   "outputs": [],
   "source": [
    "little_mermaid = 3\n",
    "brother_bear = 5\n",
    "hercules = 1\n",
    "\n",
    "prize_per_day = 3\n",
    "\n",
    "rental_costs = prize_per_day * (little_mermaid + brother_bear + hercules)\n",
    "\n",
    "f'You will have to pay ${rental_costs}.'"
   ]
  },
  {
   "cell_type": "markdown",
   "metadata": {},
   "source": [
    "Suppose you're working as a contractor for 3 companies: Google, Amazon and Facebook, they pay you a different rate per hour. Google pays 400 dollars per hour, Amazon 380, and Facebook 350. How much will you receive in payment for this week? You worked 10 hours for Facebook, 6 hours for Google and 4 hours for Amazon."
   ]
  },
  {
   "cell_type": "code",
   "execution_count": null,
   "metadata": {},
   "outputs": [],
   "source": [
    "# Implementation with dictionaries and list comprehensions\n",
    "\n",
    "company_rates = {\n",
    "    'google' : 400,\n",
    "    'facebook' : 380,\n",
    "    'amazon' : 350,\n",
    "}\n",
    "\n",
    "hours_worked = {\n",
    "    'google' : 6,\n",
    "    'facebook' : 10,\n",
    "    'amazon' : 4\n",
    "}\n",
    "\n",
    "\n",
    "for company in hours_worked.keys():\n",
    "    paycheck = hours_worked[company] * company_rates[company]\n",
    "    print(f'I will get paid {paycheck:,} from {company} this week.')\n",
    "\n",
    "\n",
    "\n",
    "# Simple implementation\n",
    "\n",
    "google_rate = 40\n",
    "amazon_rate = 380\n",
    "facebook_rate = 350\n",
    "\n",
    "paycheck_amount = (10 * facebook_rate) + (6 * google_rate) + (4 * amazon_rate)\n",
    "print(f'You will receive a payment of ${paycheck_amount:,} for this week.')"
   ]
  },
  {
   "cell_type": "markdown",
   "metadata": {},
   "source": [
    "A student can be enrolled to a class only if the class is not full and the class schedule does not conflict with her current schedule."
   ]
  },
  {
   "cell_type": "code",
   "execution_count": null,
   "metadata": {},
   "outputs": [],
   "source": [
    "can_be_enrolled != class_full and schedule_conflict"
   ]
  },
  {
   "cell_type": "markdown",
   "metadata": {},
   "source": [
    "A product offer can be applied only if people buys more than 2 items, and the offer has not expired. Premium members do not need to buy a specific amount of products."
   ]
  },
  {
   "cell_type": "code",
   "execution_count": null,
   "metadata": {},
   "outputs": [],
   "source": [
    "can_apply_offer == ((number_items_bought > 2) and (offer_expiration_date < now())) or (is_premium_member)"
   ]
  }
 ],
 "metadata": {
  "kernelspec": {
   "display_name": "Python 3",
   "language": "python",
   "name": "python3"
  },
  "language_info": {
   "codemirror_mode": {
    "name": "ipython",
    "version": 3
   },
   "file_extension": ".py",
   "mimetype": "text/x-python",
   "name": "python",
   "nbconvert_exporter": "python",
   "pygments_lexer": "ipython3",
   "version": "3.7.1"
  }
 },
 "nbformat": 4,
 "nbformat_minor": 2
}
