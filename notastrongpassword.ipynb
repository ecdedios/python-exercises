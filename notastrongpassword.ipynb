{
 "cells": [
  {
   "cell_type": "markdown",
   "metadata": {},
   "source": [
    "_Use the following code to follow the instructions below:_\n",
    "\n",
    "**username = 'codeup'  \n",
    "password = 'notastrongpassword'**\n",
    "\n",
    "Create a variable that holds a boolean value for each of the following conditions:\n",
    "\n",
    "- the password must be at least 5 characters\n",
    "- the username must be no more than 20 characters\n",
    "- the password must not be the same as the username\n",
    "- bonus neither the username or password can start or end with whitespace"
   ]
  },
  {
   "cell_type": "code",
   "execution_count": 1,
   "metadata": {},
   "outputs": [
    {
     "name": "stdout",
     "output_type": "stream",
     "text": [
      "True\n",
      "True\n",
      "True\n",
      "True\n",
      "True\n"
     ]
    }
   ],
   "source": [
    "username = 'codeup'\n",
    "password = 'notastrongmessage'\n",
    "is_password_at_least_5_characters = len(password) >= 5\n",
    "is_password_more_than_20_characters = len(password) > 20\n",
    "is_password_same_username = (password != username)\n",
    "has_white_start_end_username = (username ==  username.strip())\n",
    "has_white_start_end_password = (password ==  password.strip())\n",
    "\n",
    "are_credentials_are_valid = \n",
    "\n",
    "print(at_least_5_characters)\n",
    "print(no_more_than_20_characters)\n",
    "print(not_same_username)\n",
    "print(no_white_start_end_username)\n",
    "print(no_white_start_end_password)\n",
    "print()\n",
    "print('Credentials are valid: {credentials_valid}')"
   ]
  },
  {
   "cell_type": "code",
   "execution_count": null,
   "metadata": {},
   "outputs": [],
   "source": []
  },
  {
   "cell_type": "code",
   "execution_count": null,
   "metadata": {},
   "outputs": [],
   "source": []
  }
 ],
 "metadata": {
  "kernelspec": {
   "display_name": "Python 3",
   "language": "python",
   "name": "python3"
  },
  "language_info": {
   "codemirror_mode": {
    "name": "ipython",
    "version": 3
   },
   "file_extension": ".py",
   "mimetype": "text/x-python",
   "name": "python",
   "nbconvert_exporter": "python",
   "pygments_lexer": "ipython3",
   "version": "3.7.1"
  }
 },
 "nbformat": 4,
 "nbformat_minor": 2
}
